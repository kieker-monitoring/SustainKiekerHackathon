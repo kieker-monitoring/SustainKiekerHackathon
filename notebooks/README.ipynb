{
 "cells": [
  {
   "cell_type": "markdown",
   "id": "60a2e3b3-91b8-495c-8545-bd35e3ae27fe",
   "metadata": {},
   "source": [
    "# SustainKieker Hackathon: Reverse Engineering of Research Software\n",
    "\n",
    "🗓️ Thu 27/02, 13:30\n",
    "<br>📍 Room SR 206, Building 30.70, Campus South (KIT)\n",
    "<br>ℹ️ [Abstract](https://events.hifis.net/event/1741/contributions/14031/)\n",
    "<br>🔬 [The Kieker Observability Framework](https://kieker-monitoring.net)\n",
    "<br>🌐 [The SustainKieker Project Homepage](https://sustainkieker.kieker-monitoring.net)\n",
    "\n",
    "## Table of Contents\n",
    "\n",
    "1. Introduction\n",
    "1. Prerequisites\n",
    "   * Linux system\n",
    "   * Software\n",
    "1. Instructions\n",
    "1. Run the Kieker Trace Analysis\n",
    "1. More reads"
   ]
  },
  {
   "cell_type": "markdown",
   "id": "06f6eca0-07da-43d8-b1ea-374398da052b",
   "metadata": {},
   "source": [
    "## Introduction\n",
    "\n",
    "[Kieker observability framework](https://kieker-monitoring.net/) features monitoring and analysis capabilities.\n",
    "OpenTelemetry, in comparison, provides means to monitor the program but analysis. Our new [Otkt DSL](https://github.com/kieker-monitoring/OtktDSL) can define a mapping from an OpenTelemetry Span to a Kieker record.\n",
    "Using Otkt, we show how we can use OpenTelemetry to collect monitoring data from a Python program and send it to a Kieker Analysis endpoint."
   ]
  },
  {
   "cell_type": "markdown",
   "id": "44715c91-4e79-4a19-8e97-cc24e5d8d819",
   "metadata": {},
   "source": [
    "## Prerequisites\n",
    "\n",
    "### Linux system\n",
    "   \n",
    "#### macOS\n",
    "* [Multipass](https://github.com/canonical/multipass) ([latest download](https://canonical.com/multipass/download/macos))\n",
    "  - [x] M1, M2, or Intel based\n",
    "  - [x] macOS 10.15 Catalina or later\n",
    "\n",
    "#### Windows 10/11 (two options)\n",
    "* Multipass ([latest download](https://canonical.com/multipass/download/windows))\n",
    "  - [x] Windows 10 Pro or Enterprise version 1803 (“April 2018 Update”) or later\n",
    "* WSL Install Instructions\n",
    "  * [Windows 10 2004 or higher](https://learn.microsoft.com/en-us/windows/wsl/install)\n",
    "  * Old versions: [Windows 10 1903 or higher](https://learn.microsoft.com/en-us/windows/wsl/install-manual)\n",
    "\n",
    "### Software\n",
    "1. Python3\n",
    "\n",
    "1. Java\n",
    "   ```bash\n",
    "   # Fedora 40, 41, 42\n",
    "   sudo dnf install java-21-openjdk-devel\n",
    "   # Ubuntu 20.04, 22.04, 24.04, 24.10\n",
    "   sudo apt install openjdk-21-jdk\n",
    "   ```\n",
    "1. Maven\n",
    "   ```bash\n",
    "   # Fedora 40, 41, 42\n",
    "   sudo dnf install maven\n",
    "   # Ubuntu 20.04, 22.04, 24.04, 24.10\n",
    "   sudo apt install maven\n",
    "   ```\n",
    "   or [install manually](https://maven.apache.org/install.html).\n",
    "\n",
    "1. [GNU plotutils](http://www.gnu.org/software/plotutils/)\n",
    "   ```bash\n",
    "   # Fedora 40, 41, 42\n",
    "   sudo dnf install plotutils\n",
    "   # Ubuntu 20.04, 22.04, 24.04, 24.10\n",
    "   sudo apt install plotutils\n",
    "   ```\n",
    "1. The [graphviz](http://www.graphviz.org/) graph visualization tools\n",
    "   ```bash\n",
    "   # Fedora 40, 41, 42\n",
    "   sudo dnf install graphviz\n",
    "   # Ubuntu 20.04, 22.04, 24.04, 24.10\n",
    "   sudo apt install graphviz\n",
    "   ```\n",
    "\n",
    "1. The [Ghostscript](https://ghostscript.com/) interpreter for PostScript language & PDF\n",
    "   ```bash\n",
    "   # Fedora 40, 41, 42\n",
    "   sudo dnf install ghostscript\n",
    "   # Ubuntu 20.04, 22.04, 24.04, 24.10\n",
    "   sudo apt install ghostscript\n",
    "   ```"
   ]
  },
  {
   "cell_type": "markdown",
   "id": "79544f0d-cec8-41f0-92cb-f1d1a2db8122",
   "metadata": {},
   "source": [
    "---\n",
    "## Instructions"
   ]
  },
  {
   "cell_type": "markdown",
   "id": "9747c4f6-2708-4f0c-9be7-507afb38231d",
   "metadata": {},
   "source": [
    "### Build the Otkt collector\n",
    "\n",
    "* It receives the monitoring data.\n",
    "* **Already done it the Jupyter container.**\n",
    "\n",
    "  ```shell\n",
    "  cd ~/Hackathon/collector\n",
    "  mvn clean package\n",
    "  ```"
   ]
  },
  {
   "cell_type": "markdown",
   "id": "1fd04f27-5a4b-4b9c-b1a8-1f103cef7722",
   "metadata": {},
   "source": [
    "### Export the `PYTHONPATH` variable\n",
    "\n",
    "* The `otkt` python package should be visible.\n",
    "* **Already done in the Jupyter container.**\n",
    "\n",
    "  ```bash\n",
    "  export PYTHONPATH=/path/to/hackathon-repo/python:$PYTHONPATH\n",
    "  ```"
   ]
  },
  {
   "cell_type": "markdown",
   "id": "c0102238-1407-41fb-b3b5-6ff3065cd0e2",
   "metadata": {},
   "source": [
    "### Install Python dependencies\n",
    "\n",
    "* **Already done in the Jupyter container.**\n",
    "```bash\n",
    "pip install -r ~/Hackathon/res/requirements.txt\n",
    "```"
   ]
  },
  {
   "cell_type": "markdown",
   "id": "1fbec6c8-3de2-48b4-8917-70cc83d1162e",
   "metadata": {},
   "source": [
    "---\n",
    "## Instrumenting Python code\n",
    "\n",
    "* Manual instrumentation requires locating\\\n",
    "  (1) target python files\\\n",
    "  (2) the file with the entry point.\n",
    "* Please ask for help if something does not work."
   ]
  },
  {
   "cell_type": "markdown",
   "id": "b85598a4-e75e-4392-8424-739858c90d9e",
   "metadata": {},
   "source": [
    "### Instrument the entry point\n",
    "\n",
    "```python\n",
    "from otkt.otelinit import tracer\n",
    "```"
   ]
  },
  {
   "cell_type": "markdown",
   "id": "591a3e89-e12a-487f-ac76-f6512c5679bc",
   "metadata": {},
   "source": [
    "### Instrument all python files\n",
    "\n",
    "```bash\n",
    "# Run the below command inside the target software repository:\n",
    "~/Hackathon/tools/instrument-py.sh\n",
    "```"
   ]
  },
  {
   "cell_type": "markdown",
   "id": "875e1300-9d12-4768-8c26-9b12a3f2fe38",
   "metadata": {},
   "source": [
    "### Run the Otkt collector"
   ]
  },
  {
   "cell_type": "code",
   "execution_count": null,
   "id": "83498f6d-8681-4604-833a-001c2bef055d",
   "metadata": {},
   "outputs": [],
   "source": [
    "!java -jar ~/Hackathon/collector/target/Collector-0.0.1-SNAPSHOT-jar-with-dependencies.jar -c ~/Hackathon/res/config.txt"
   ]
  },
  {
   "cell_type": "markdown",
   "id": "1241dde9-814a-4960-a889-a3ec29f08ba8",
   "metadata": {},
   "source": [
    "### **Example**: The UXsim Network traffic flow simulator in pure Python\n",
    "* [https://github.com/toruseo/UXsim](https://github.com/toruseo/UXsim)"
   ]
  },
  {
   "cell_type": "code",
   "execution_count": null,
   "id": "28cbc39a-e908-4729-9f6d-3536d40e6196",
   "metadata": {},
   "outputs": [],
   "source": [
    "!cd UXsim && ~/Hackathon/tools/instrument-py.sh"
   ]
  },
  {
   "cell_type": "code",
   "execution_count": null,
   "id": "6717d0ef-95ff-4991-b2b2-9744c9ceb716",
   "metadata": {},
   "outputs": [],
   "source": [
    "!cd UXsim && python -m build"
   ]
  },
  {
   "cell_type": "markdown",
   "id": "1f833739-0a0e-4e93-a76c-2bf295767fe0",
   "metadata": {},
   "source": [
    "### Run the Otkt collector\n",
    "* Use different terminal on Jupyter\n",
    "* `Ctrl + Shift + L` and select `Terminal'"
   ]
  },
  {
   "cell_type": "markdown",
   "id": "d369f3df-9898-4bf0-8851-b86ed0ef4bb7",
   "metadata": {},
   "source": [
    "```bash\n",
    "java -jar ~/Hackathon/collector/target/Collector-0.0.1-SNAPSHOT-jar-with-dependencies.jar -c ~/Hackathon/res/config.txt\n",
    "```"
   ]
  },
  {
   "cell_type": "markdown",
   "id": "d0bc9635-488f-4da0-82ca-acc9e56df78c",
   "metadata": {},
   "source": [
    "### Run the test program\n",
    "* Use a new terminal on Jupyter (`Ctrl + Shift + L` and select `Terminal')"
   ]
  },
  {
   "cell_type": "markdown",
   "id": "512852f1-4661-461f-99fd-f9a5da493f1a",
   "metadata": {},
   "source": [
    "```bash\n",
    "python ~/Hackathon/examples/uxsim-test.py\n",
    "```"
   ]
  },
  {
   "cell_type": "markdown",
   "id": "c04317eb-4c97-4322-ade1-05f15170d6b4",
   "metadata": {},
   "source": [
    "1. On a new terminal, run the target program (e.g., `python3 main.py`).\n",
    "\n",
    "    ```bash\n",
    "    # Run inside the target software repository:\n",
    "    python3 main.py\n",
    "    ```\n",
    "\n",
    "## Run the Kieker Trace Analysis\n",
    "\n",
    "   * Prepare Trace Analysis\n",
    "     ```bash\n",
    "     # Run inside the hackathon repository\n",
    "     unzip tools/trace-analysis-2.0.2.zip\n",
    "     ```\n",
    "\n",
    "   * Aggregated Deployment Call Tree\n",
    "     ```bash\n",
    "     # Run inside the hackathon repository\n",
    "     mkdir output-adctree\n",
    "     trace-analysis-2.0.2/bin/trace-analysis  \\\n",
    "       --inputdirs /path/to/kieker-logs       \\\n",
    "       --outputdir output-adctree             \\\n",
    "       --plot-Aggregated-Deployment-Call-Tree\n",
    "     cd output-adctree\n",
    "     dot aggregatedDeploymentCallTree.dot -T pdf output.pdf\n",
    "     ```\n",
    "\n",
    "   * Deployment Component Dependency Graph\n",
    "     ```bash\n",
    "     # Run inside the hackathon repository\n",
    "     mkdir output-dcdgraph\n",
    "     trace-analysis-2.0.2/bin/trace-analysis             \\\n",
    "       --inputdirs /path/to/kieker-logs                  \\\n",
    "       --outputdir output-dcdgraph\n",
    "       --plot-Deployment-Component-Dependency-Graph none\n",
    "     cd output-dcdgraph\n",
    "     dot deploymentComponentDependencyGraph.dot -T pdf output.pdf\n",
    "     ```\n",
    "\n",
    "   * Deployment Sequence Diagrams\n",
    "     ```bash\n",
    "     # Run inside the hackathon repository\n",
    "     mkdir output-dsdiagrams\n",
    "     trace-analysis-2.0.2/bin/trace-analysis             \\\n",
    "       --inputdirs /path/to/kieker-logs                  \\\n",
    "       --outputdir output-dsdiagrams\n",
    "       --plot-Deployment-Sequence-Diagrams\n",
    "     cd output-dsdiagrams\n",
    "     pic2plot -T ps deploymentSequenceDiagram-1.pic > output.ps\n",
    "     ps2pdf outout.ps output.pdf\n",
    "     ```\n",
    "\n",
    "## More Reads\n",
    "1. The Otkt collector stores all received records under `/tmp`. E.g.,\n",
    "\n",
    "   ```\n",
    "   /tmp/kieker-20250217-181132-41826294550971-UTC--KIEKER/\n",
    "   /tmp/kieker-20250218-093839-12420615078112-UTC--KIEKER/\n",
    "   /tmp/kieker-20250218-114626-20087904425947-UTC--KIEKER/\n",
    "   ```\n",
    "\n",
    "   You can change the location by changing the value for\n",
    "   `kieker.monitoring.writer.filesystem.FileWriter.customStoragePath` in\n",
    "   [res/config.txt](res/config.txt).\n",
    "\n",
    "1. Packaging a python software\n",
    "\n",
    "   Instrumenting a Python software may require downloading the source code and\n",
    "building a package. In this case, follow the instruction below and repackage it\n",
    "yourself. It could be as simple as running `python3 -m build`. Otherwise, you\n",
    "need to follow the provided build instruction.\n",
    "\n",
    "   ```bash\n",
    "   # Instrument the target software before running the below commands\n",
    "   pip install build\n",
    "   python3 -m build\n",
    "   ```\n",
    "\n",
    "1. Building an Otkt program\n",
    "\n",
    "   For the Hackathon, we provide all artifacts from the Otkt build of the Otkt source code [demo.otkt](examples/demo.otkt). For more details, refer to [BUILD.md](BUILD.md).\n",
    "\n",
    "1. Building the Otkt compiler\n",
    "\n",
    "   The Otkt compiler is maintained in the GitHub repository [OtktDSL](https://github.com/kieker-monitoring/OtktDSL). The instruction will be uploaded soon."
   ]
  }
 ],
 "metadata": {
  "kernelspec": {
   "display_name": "Python 3 (ipykernel)",
   "language": "python",
   "name": "python3"
  },
  "language_info": {
   "codemirror_mode": {
    "name": "ipython",
    "version": 3
   },
   "file_extension": ".py",
   "mimetype": "text/x-python",
   "name": "python",
   "nbconvert_exporter": "python",
   "pygments_lexer": "ipython3",
   "version": "3.12.9"
  }
 },
 "nbformat": 4,
 "nbformat_minor": 5
}
